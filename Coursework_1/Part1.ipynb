{
 "cells": [
  {
   "cell_type": "markdown",
   "source": [
    "## Coursework1 Part 1\n",
    "\n",
    "The dataset is related to the price of houses in a certain area. The dataset includes several features (6 features from X1 to X6) and the house price per unit area in the last column. The first column for each instance is an identifier for each instance.\n",
    "\n",
    "The datasets can be viewed as regression task or a binary classification task (expensive>=30; not-expensive<30).\n",
    "\n",
    "The task is to build a regression model to predict the house price per unit area and a classification model to classify the houses into expensive and not-expensive."
   ],
   "metadata": {
    "collapsed": false
   },
   "id": "a45153021c80e1c4"
  },
  {
   "cell_type": "code",
   "execution_count": 1,
   "id": "initial_id",
   "metadata": {
    "collapsed": true,
    "ExecuteTime": {
     "end_time": "2024-03-13T02:36:09.032396Z",
     "start_time": "2024-03-13T02:36:08.417472Z"
    }
   },
   "outputs": [],
   "source": [
    "import numpy as np\n",
    "import pandas as pd\n",
    "import sklearn\n",
    "from sklearn.linear_model import LinearRegression\n",
    "from sklearn.metrics import mean_squared_error, accuracy_score"
   ]
  },
  {
   "cell_type": "markdown",
   "source": [
    "### Load the dataset\n",
    "\n",
    "Load the dataset. "
   ],
   "metadata": {
    "collapsed": false
   },
   "id": "c496e2ac1c46677c"
  },
  {
   "cell_type": "code",
   "outputs": [],
   "source": [
    "# Loading the training and test datasets\n",
    "train_data = pd.read_csv('real-state/train_full_Real-estate.csv')\n",
    "test_data = pd.read_csv('real-state/test_full_Real-estate.csv')"
   ],
   "metadata": {
    "collapsed": false,
    "ExecuteTime": {
     "end_time": "2024-03-13T02:36:09.053910Z",
     "start_time": "2024-03-13T02:36:09.033992Z"
    }
   },
   "id": "ba32b60d28cfe27c",
   "execution_count": 2
  },
  {
   "cell_type": "markdown",
   "source": [
    "### Linear Regression\n",
    "\n",
    "Train a linear regression model to predict the house price per unit area."
   ],
   "metadata": {
    "collapsed": false
   },
   "id": "35ee9e8b7bec8238"
  },
  {
   "cell_type": "code",
   "outputs": [
    {
     "name": "stdout",
     "output_type": "stream",
     "text": [
      "8.501078429154251\n"
     ]
    }
   ],
   "source": [
    "# Separating features and target variable for regression in the training set\n",
    "X_train_reg = train_data.drop(['No', 'Y house price of unit area'], axis=1)\n",
    "y_train_reg = train_data['Y house price of unit area']\n",
    "\n",
    "# Preparing the test set similarly for regression\n",
    "X_test_reg = test_data.drop(['No', 'Y house price of unit area'], axis=1)\n",
    "y_test_reg = test_data['Y house price of unit area']\n",
    "\n",
    "# Training the regression model\n",
    "reg_model = LinearRegression()\n",
    "reg_model.fit(X_train_reg, y_train_reg)\n",
    "\n",
    "# Predicting and evaluating the regression model\n",
    "y_pred_reg = reg_model.predict(X_test_reg)\n",
    "mse_reg = mean_squared_error(y_test_reg, y_pred_reg)\n",
    "rmse_reg = np.sqrt(mse_reg)\n",
    "\n",
    "print(rmse_reg)"
   ],
   "metadata": {
    "collapsed": false,
    "ExecuteTime": {
     "end_time": "2024-03-13T02:36:09.063979Z",
     "start_time": "2024-03-13T02:36:09.055344Z"
    }
   },
   "id": "e7c40d51f644a55e",
   "execution_count": 3
  },
  {
   "cell_type": "markdown",
   "source": [
    "### Classification Model\n",
    "\n",
    "Train a binary classification model to classify the houses into expensive and not-expensive."
   ],
   "metadata": {
    "collapsed": false
   },
   "id": "7432afdd67d92913"
  },
  {
   "cell_type": "code",
   "outputs": [
    {
     "name": "stdout",
     "output_type": "stream",
     "text": [
      "0.8672566371681416\n"
     ]
    }
   ],
   "source": [
    "# Preparing the classification labels\n",
    "train_data['label'] = train_data['Y house price of unit area'].apply(lambda x: 1 if x >= 30 else 0)\n",
    "test_data['label'] = test_data['Y house price of unit area'].apply(lambda x: 1 if x >= 30 else 0)\n",
    "\n",
    "# Separating features and target variable for classification\n",
    "X_train_clf = train_data.drop(['No', 'Y house price of unit area', 'label'], axis=1)\n",
    "y_train_clf = train_data['label']\n",
    "X_test_clf = test_data.drop(['No', 'Y house price of unit area', 'label'], axis=1)\n",
    "y_test_clf = test_data['label']\n",
    "\n",
    "# Training the classification model\n",
    "clf_model = sklearn.svm.SVC(kernel='linear', gamma='auto')\n",
    "clf_model.fit(X_train_clf, y_train_clf)\n",
    "\n",
    "# Predicting and evaluating the classification model\n",
    "y_pred_clf = clf_model.predict(X_test_clf)\n",
    "accuracy_clf = accuracy_score(y_test_clf, y_pred_clf)\n",
    "\n",
    "print(accuracy_clf)"
   ],
   "metadata": {
    "collapsed": false,
    "ExecuteTime": {
     "end_time": "2024-03-13T02:36:10.459137Z",
     "start_time": "2024-03-13T02:36:09.066007Z"
    }
   },
   "id": "7f50458a09174c20",
   "execution_count": 4
  }
 ],
 "metadata": {
  "kernelspec": {
   "display_name": "Python 3",
   "language": "python",
   "name": "python3"
  },
  "language_info": {
   "codemirror_mode": {
    "name": "ipython",
    "version": 2
   },
   "file_extension": ".py",
   "mimetype": "text/x-python",
   "name": "python",
   "nbconvert_exporter": "python",
   "pygments_lexer": "ipython2",
   "version": "2.7.6"
  }
 },
 "nbformat": 4,
 "nbformat_minor": 5
}
